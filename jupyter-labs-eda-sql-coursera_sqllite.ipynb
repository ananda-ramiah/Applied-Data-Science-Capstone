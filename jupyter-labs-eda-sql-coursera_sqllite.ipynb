{
 "cells":[
  {
   "cell_type":"markdown",
   "source":[
    "<p style=\"text-align:center\">\n",
    "    <a href=\"https:\/\/skills.network\/?utm_medium=Exinfluencer&utm_source=Exinfluencer&utm_content=000026UJ&utm_term=10006555&utm_id=NA-SkillsNetwork-Channel-SkillsNetworkCoursesIBMDS0321ENSkillsNetwork865-2022-01-01\" target=\"_blank\">\n",
    "    <img src=\"https:\/\/cf-courses-data.s3.us.cloud-object-storage.appdomain.cloud\/assets\/logos\/SN_web_lightmode.png\" width=\"200\" alt=\"Skills Network Logo\"  \/>\n",
    "    <\/a>\n",
    "<\/p>\n",
    "\n",
    "<h1 align=center><font size = 5>Assignment: SQL Notebook for Peer Assignment<\/font><\/h1>\n",
    "\n",
    "Estimated time needed: **60** minutes.\n",
    "\n",
    "## Introduction\n",
    "Using this Python notebook you will:\n",
    "\n",
    "1.  Understand the Spacex DataSet\n",
    "2.  Load the dataset  into the corresponding table in a Db2 database\n",
    "3.  Execute SQL queries to answer assignment questions "
   ],
   "attachments":{
    
   },
   "metadata":{
    "datalore":{
     "node_id":"yKmoq3igF8qRX1Fn7QnopI",
     "type":"MD",
     "hide_input_from_viewers":false,
     "hide_output_from_viewers":false,
     "report_properties":{
      
     }
    }
   }
  },
  {
   "cell_type":"markdown",
   "source":[
    "## Overview of the DataSet\n",
    "\n",
    "SpaceX has gained worldwide attention for a series of historic milestones. \n",
    "\n",
    "It is the only private company ever to return a spacecraft from low-earth orbit, which it first accomplished in December 2010.\n",
    "SpaceX advertises Falcon 9 rocket launches on its website with a cost of 62 million dollars wheras other providers cost upward of 165 million dollars each, much of the savings is because Space X can reuse the first stage. \n",
    "\n",
    "\n",
    "Therefore if we can determine if the first stage will land, we can determine the cost of a launch. \n",
    "\n",
    "This information can be used if an alternate company wants to bid against SpaceX for a rocket launch.\n",
    "\n",
    "This dataset includes a record for each payload carried during a SpaceX mission into outer space."
   ],
   "attachments":{
    
   },
   "metadata":{
    "datalore":{
     "node_id":"IzvkugzkOjGhkbMcpdu3yO",
     "type":"MD",
     "hide_input_from_viewers":false,
     "hide_output_from_viewers":false,
     "report_properties":{
      
     }
    }
   }
  },
  {
   "cell_type":"markdown",
   "source":[
    "### Download the datasets\n",
    "\n",
    "This assignment requires you to load the spacex dataset.\n",
    "\n",
    "In many cases the dataset to be analyzed is available as a .CSV (comma separated values) file, perhaps on the internet. Click on the link below to download and save the dataset (.CSV file):\n",
    "\n",
    " <a href=\"https:\/\/cf-courses-data.s3.us.cloud-object-storage.appdomain.cloud\/IBM-DS0321EN-SkillsNetwork\/labs\/module_2\/data\/Spacex.csv\" target=\"_blank\">Spacex DataSet<\/a>\n"
   ],
   "attachments":{
    
   },
   "metadata":{
    "datalore":{
     "node_id":"ONJoIjAxHcnezbITw4xrnt",
     "type":"MD",
     "hide_input_from_viewers":false,
     "hide_output_from_viewers":false,
     "report_properties":{
      
     }
    }
   }
  },
  {
   "cell_type":"code",
   "source":[
    "!pip install sqlalchemy==1.3.9\n",
    "!pip install ibm_db_sa\n",
    "!pip install ipython-sql"
   ],
   "execution_count":8,
   "outputs":[
    {
     "name":"stdout",
     "text":[
      "Requirement already satisfied: sqlalchemy==1.3.9 in \/opt\/python\/envs\/default\/lib\/python3.8\/site-packages (1.3.9)\r\n",
      "Collecting ibm_db_sa\r\n",
      "  Downloading ibm_db_sa-0.3.9-py3-none-any.whl (30 kB)\r\n",
      "Collecting ibm-db>=2.0.0\r\n",
      "  Downloading ibm_db-3.1.4.tar.gz (1.4 MB)\r\n",
      "\u001b[?25l     \u001b[90m━━━━━━━━━━━━━━━━━━━━━━━━━━━━━━━━━━━━━━━━\u001b[0m \u001b[32m0.0\/1.4 MB\u001b[0m \u001b[31m?\u001b[0m eta \u001b[36m-:--:--\u001b[0m\r\u001b[2K     \u001b[90m━━━━━━━━━━━━━━━━━━━━━━━━━━━━━━━━━━━━━━━━\u001b[0m \u001b[32m1.4\/1.4 MB\u001b[0m \u001b[31m49.1 MB\/s\u001b[0m eta \u001b[36m0:00:00\u001b[0m\r\n",
      "\u001b[?25h  Installing build dependencies ... \u001b[?25l-\b \b\\\b \b|\b \bdone\r\n",
      "\u001b[?25h  Getting requirements to build wheel ... \u001b[?25l-\b \b\\\b \bdone\r\n",
      "\u001b[?25h  Installing backend dependencies ... \u001b[?25l-\b \b\\\b \bdone\r\n",
      "\u001b[?25h  Preparing metadata (pyproject.toml) ... \u001b[?25l-\b \b\\\b \bdone\r\n",
      "\u001b[?25hRequirement already satisfied: sqlalchemy>=0.7.3 in \/opt\/python\/envs\/default\/lib\/python3.8\/site-packages (from ibm_db_sa) (1.3.9)\r\n",
      "Building wheels for collected packages: ibm-db\r\n",
      "  Building wheel for ibm-db (pyproject.toml) ... \u001b[?25l-\b \b\\\b \b|\b \b\/\b \b-\b \b\\\b \b|\b \b\/\b \b-\b \b\\\b \b|\b \b\/\b \b-\b \b\\\b \b|\b \b\/\b \b-\b \b\\\b \b|\b \b\/\b \b-\b \b\\\b \b|\b \b\/\b \b-\b \b\\\b \b|\b \b\/\b \b-\b \b\\\b \b|\b \b\/\b \b-\b \b\\\b \b|\b \bdone\r\n",
      "\u001b[?25h  Created wheel for ibm-db: filename=ibm_db-3.1.4-cp38-cp38-linux_x86_64.whl size=41857330 sha256=dc26d1ae6b2b3a0d0d8a3c4ad943902ac3b4c6d1a28c9adde4c95063e3762585\r\n",
      "  Stored in directory: \/home\/datalore\/.cache\/pip\/wheels\/29\/8a\/54\/6483abefac5e30f2897d05de40bfd83a31b23f2c02182edb6c\r\n",
      "Successfully built ibm-db\r\n",
      "Installing collected packages: ibm-db, ibm_db_sa\r\n",
      "Successfully installed ibm-db-3.1.4 ibm_db_sa-0.3.9\r\n",
      "Collecting ipython-sql\r\n",
      "  Downloading ipython_sql-0.5.0-py3-none-any.whl (20 kB)\r\n",
      "Requirement already satisfied: ipython-genutils in \/opt\/python\/envs\/default\/lib\/python3.8\/site-packages (from ipython-sql) (0.2.0)\r\n",
      "Collecting prettytable\r\n",
      "  Downloading prettytable-3.6.0-py3-none-any.whl (27 kB)\r\n",
      "Requirement already satisfied: ipython in \/opt\/python\/envs\/default\/lib\/python3.8\/site-packages (from ipython-sql) (7.31.1)\r\n",
      "Collecting sqlparse\r\n",
      "  Downloading sqlparse-0.4.3-py3-none-any.whl (42 kB)\r\n",
      "\u001b[?25l     \u001b[90m━━━━━━━━━━━━━━━━━━━━━━━━━━━━━━━━━━━━━━━━\u001b[0m \u001b[32m0.0\/42.8 kB\u001b[0m \u001b[31m?\u001b[0m eta \u001b[36m-:--:--\u001b[0m\r\u001b[2K     \u001b[90m━━━━━━━━━━━━━━━━━━━━━━━━━━━━━━━━━━━━━━━━\u001b[0m \u001b[32m42.8\/42.8 kB\u001b[0m \u001b[31m8.2 MB\/s\u001b[0m eta \u001b[36m0:00:00\u001b[0m\r\n",
      "\u001b[?25hCollecting sqlalchemy>=2.0\r\n",
      "  Downloading SQLAlchemy-2.0.4-cp38-cp38-manylinux_2_17_x86_64.manylinux2014_x86_64.whl (2.8 MB)\r\n",
      "\u001b[?25l     \u001b[90m━━━━━━━━━━━━━━━━━━━━━━━━━━━━━━━━━━━━━━━━\u001b[0m \u001b[32m0.0\/2.8 MB\u001b[0m \u001b[31m?\u001b[0m eta \u001b[36m-:--:--\u001b[0m\r\u001b[2K     \u001b[91m━━━━━━━━━━━━━━━━━━━━━━━━━━━━━━━━━━━━\u001b[0m\u001b[90m╺\u001b[0m\u001b[90m━━━\u001b[0m \u001b[32m2.5\/2.8 MB\u001b[0m \u001b[31m69.3 MB\/s\u001b[0m eta \u001b[36m0:00:01\u001b[0m\r\u001b[2K     \u001b[90m━━━━━━━━━━━━━━━━━━━━━━━━━━━━━━━━━━━━━━━━\u001b[0m \u001b[32m2.8\/2.8 MB\u001b[0m \u001b[31m47.6 MB\/s\u001b[0m eta \u001b[36m0:00:00\u001b[0m\r\n",
      "\u001b[?25hRequirement already satisfied: six in \/opt\/python\/envs\/default\/lib\/python3.8\/site-packages (from ipython-sql) (1.16.0)\r\n",
      "Requirement already satisfied: greenlet!=0.4.17 in \/opt\/python\/envs\/default\/lib\/python3.8\/site-packages (from sqlalchemy>=2.0->ipython-sql) (2.0.2)\r\n",
      "Requirement already satisfied: typing-extensions>=4.2.0 in \/opt\/python\/envs\/default\/lib\/python3.8\/site-packages (from sqlalchemy>=2.0->ipython-sql) (4.5.0)\r\n",
      "Requirement already satisfied: setuptools>=18.5 in \/opt\/python\/envs\/default\/lib\/python3.8\/site-packages (from ipython->ipython-sql) (67.4.0)\r\n",
      "Requirement already satisfied: matplotlib-inline in \/opt\/python\/envs\/default\/lib\/python3.8\/site-packages (from ipython->ipython-sql) (0.1.6)\r\n",
      "Requirement already satisfied: decorator in \/opt\/python\/envs\/default\/lib\/python3.8\/site-packages (from ipython->ipython-sql) (5.1.1)\r\n",
      "Requirement already satisfied: traitlets>=4.2 in \/opt\/python\/envs\/default\/lib\/python3.8\/site-packages (from ipython->ipython-sql) (5.9.0)\r\n",
      "Requirement already satisfied: pickleshare in \/opt\/python\/envs\/default\/lib\/python3.8\/site-packages (from ipython->ipython-sql) (0.7.5)\r\n",
      "Requirement already satisfied: prompt-toolkit!=3.0.0,!=3.0.1,<3.1.0,>=2.0.0 in \/opt\/python\/envs\/default\/lib\/python3.8\/site-packages (from ipython->ipython-sql) (3.0.37)\r\n",
      "Requirement already satisfied: jedi>=0.16 in \/opt\/python\/envs\/default\/lib\/python3.8\/site-packages (from ipython->ipython-sql) (0.17.2)\r\n",
      "Requirement already satisfied: backcall in \/opt\/python\/envs\/default\/lib\/python3.8\/site-packages (from ipython->ipython-sql) (0.2.0)\r\n",
      "Requirement already satisfied: pexpect>4.3 in \/opt\/python\/envs\/default\/lib\/python3.8\/site-packages (from ipython->ipython-sql) (4.8.0)\r\n",
      "Requirement already satisfied: pygments in \/opt\/python\/envs\/default\/lib\/python3.8\/site-packages (from ipython->ipython-sql) (2.14.0)\r\n",
      "Requirement already satisfied: wcwidth in \/opt\/python\/envs\/default\/lib\/python3.8\/site-packages (from prettytable->ipython-sql) (0.2.6)\r\n",
      "Requirement already satisfied: parso<0.8.0,>=0.7.0 in \/opt\/python\/envs\/default\/lib\/python3.8\/site-packages (from jedi>=0.16->ipython->ipython-sql) (0.7.1)\r\n",
      "Requirement already satisfied: ptyprocess>=0.5 in \/opt\/python\/envs\/default\/lib\/python3.8\/site-packages (from pexpect>4.3->ipython->ipython-sql) (0.7.0)\r\n",
      "Installing collected packages: sqlparse, sqlalchemy, prettytable, ipython-sql\r\n",
      "  Attempting uninstall: sqlalchemy\r\n",
      "    Found existing installation: SQLAlchemy 1.3.9\r\n",
      "    Uninstalling SQLAlchemy-1.3.9:\r\n",
      "      Successfully uninstalled SQLAlchemy-1.3.9\r\n",
      "Successfully installed ipython-sql-0.5.0 prettytable-3.6.0 sqlalchemy-2.0.4 sqlparse-0.4.3\r\n"
     ],
     "output_type":"stream"
    }
   ],
   "metadata":{
    "datalore":{
     "node_id":"O6NFpQjj9kXx6SSpYZtdTc",
     "type":"CODE",
     "hide_input_from_viewers":false,
     "hide_output_from_viewers":false,
     "report_properties":{
      
     }
    }
   }
  },
  {
   "cell_type":"markdown",
   "source":[
    "### Connect to the database\n",
    "\n",
    "Let us first load the SQL extension and establish a connection with the database"
   ],
   "attachments":{
    
   },
   "metadata":{
    "datalore":{
     "node_id":"Ag0pBrQQwiF5UWlHEAoh6F",
     "type":"MD",
     "hide_input_from_viewers":false,
     "hide_output_from_viewers":false,
     "report_properties":{
      
     }
    }
   }
  },
  {
   "cell_type":"code",
   "source":[
    "%load_ext sql"
   ],
   "execution_count":9,
   "outputs":[
    
   ],
   "metadata":{
    "datalore":{
     "node_id":"KbMqZ6vsKyqkthSCZJWsOM",
     "type":"CODE",
     "hide_input_from_viewers":false,
     "hide_output_from_viewers":false,
     "report_properties":{
      
     }
    }
   }
  },
  {
   "cell_type":"code",
   "source":[
    "import csv, sqlite3\n",
    "\n",
    "con = sqlite3.connect(\"my_data1.db\")\n",
    "cur = con.cursor()"
   ],
   "execution_count":10,
   "outputs":[
    
   ],
   "metadata":{
    "datalore":{
     "node_id":"44whJ2ItmOZabgTshx3EqH",
     "type":"CODE",
     "hide_input_from_viewers":false,
     "hide_output_from_viewers":false,
     "report_properties":{
      
     }
    }
   }
  },
  {
   "cell_type":"code",
   "source":[
    "!pip install -q pandas==1.1.5"
   ],
   "execution_count":11,
   "outputs":[
    
   ],
   "metadata":{
    "datalore":{
     "node_id":"RDAIEFfTSxkgGaDT8rfJry",
     "type":"CODE",
     "hide_input_from_viewers":false,
     "hide_output_from_viewers":false,
     "report_properties":{
      
     }
    }
   }
  },
  {
   "cell_type":"code",
   "source":[
    "%sql sqlite:\/\/\/my_data1.db"
   ],
   "execution_count":12,
   "outputs":[
    
   ],
   "metadata":{
    "datalore":{
     "node_id":"SM88dVlXYJKnuxm9bKgEZK",
     "type":"CODE",
     "hide_input_from_viewers":false,
     "hide_output_from_viewers":false,
     "report_properties":{
      
     }
    }
   }
  },
  {
   "cell_type":"code",
   "source":[
    "import pandas as pd\n",
    "df = pd.read_csv(\"https:\/\/cf-courses-data.s3.us.cloud-object-storage.appdomain.cloud\/IBM-DS0321EN-SkillsNetwork\/labs\/module_2\/data\/Spacex.csv\")\n",
    "df.to_sql(\"SPACEXTBL\", con, if_exists='replace', index=False,method=\"multi\")"
   ],
   "execution_count":14,
   "outputs":[
    
   ],
   "metadata":{
    "datalore":{
     "node_id":"tCZFAVyaU3UuYMXtZPbxbn",
     "type":"CODE",
     "hide_input_from_viewers":false,
     "hide_output_from_viewers":false,
     "report_properties":{
      
     }
    }
   }
  },
  {
   "cell_type":"markdown",
   "source":[
    "## Tasks\n",
    "\n",
    "Now write and execute SQL queries to solve the assignment tasks.\n",
    "\n",
    "**Note: If the column names are in mixed case enclose it in double quotes\n",
    "   For Example \"Landing_Outcome\"**\n",
    "\n",
    "### Task 1\n",
    "\n",
    "\n",
    "\n",
    "\n",
    "##### Display the names of the unique launch sites  in the space mission"
   ],
   "attachments":{
    
   },
   "metadata":{
    "datalore":{
     "node_id":"ZuKnTj1i4oafLFmCBTepDu",
     "type":"MD",
     "hide_input_from_viewers":false,
     "hide_output_from_viewers":false,
     "report_properties":{
      
     }
    }
   }
  },
  {
   "cell_type":"code",
   "source":[
    "%%sql\n",
    "SELECT DISTINCT LAUNCH_SITE\n",
    "FROM SPACEXTBL"
   ],
   "execution_count":15,
   "outputs":[
    {
     "name":"stdout",
     "text":[
      " * sqlite:\/\/\/my_data1.db\n",
      "Done.\n"
     ],
     "output_type":"stream"
    },
    {
     "data":{
      "text\/html":[
       "<table>\n",
       "    <thead>\n",
       "        <tr>\n",
       "            <th>Launch_Site<\/th>\n",
       "        <\/tr>\n",
       "    <\/thead>\n",
       "    <tbody>\n",
       "        <tr>\n",
       "            <td>CCAFS LC-40<\/td>\n",
       "        <\/tr>\n",
       "        <tr>\n",
       "            <td>VAFB SLC-4E<\/td>\n",
       "        <\/tr>\n",
       "        <tr>\n",
       "            <td>KSC LC-39A<\/td>\n",
       "        <\/tr>\n",
       "        <tr>\n",
       "            <td>CCAFS SLC-40<\/td>\n",
       "        <\/tr>\n",
       "    <\/tbody>\n",
       "<\/table>"
      ]
     },
     "metadata":{
      
     },
     "output_type":"display_data"
    }
   ],
   "metadata":{
    "datalore":{
     "node_id":"yOX59WKarZL8nbBibmQMkH",
     "type":"CODE",
     "hide_input_from_viewers":false,
     "hide_output_from_viewers":false,
     "report_properties":{
      
     }
    }
   }
  },
  {
   "cell_type":"markdown",
   "source":[
    "\n",
    "### Task 2\n",
    "\n",
    "\n",
    "#####  Display 5 records where launch sites begin with the string 'CCA' "
   ],
   "attachments":{
    
   },
   "metadata":{
    "datalore":{
     "node_id":"ohDhTX1owKPS2pVgULSZUW",
     "type":"MD",
     "hide_input_from_viewers":false,
     "hide_output_from_viewers":false,
     "report_properties":{
      
     }
    }
   }
  },
  {
   "cell_type":"code",
   "source":[
    "%%sql\n",
    "SELECT * FROM SPACEXTBL\n",
    "WHERE LAUNCH_SITE LIKE 'CCA%'\n",
    "LIMIT 5"
   ],
   "execution_count":18,
   "outputs":[
    {
     "name":"stdout",
     "text":[
      " * sqlite:\/\/\/my_data1.db\n",
      "Done.\n"
     ],
     "output_type":"stream"
    },
    {
     "data":{
      "text\/html":[
       "<table>\n",
       "    <thead>\n",
       "        <tr>\n",
       "            <th>Date<\/th>\n",
       "            <th>Time (UTC)<\/th>\n",
       "            <th>Booster_Version<\/th>\n",
       "            <th>Launch_Site<\/th>\n",
       "            <th>Payload<\/th>\n",
       "            <th>PAYLOAD_MASS__KG_<\/th>\n",
       "            <th>Orbit<\/th>\n",
       "            <th>Customer<\/th>\n",
       "            <th>Mission_Outcome<\/th>\n",
       "            <th>Landing _Outcome<\/th>\n",
       "        <\/tr>\n",
       "    <\/thead>\n",
       "    <tbody>\n",
       "        <tr>\n",
       "            <td>04-06-2010<\/td>\n",
       "            <td>18:45:00<\/td>\n",
       "            <td>F9 v1.0  B0003<\/td>\n",
       "            <td>CCAFS LC-40<\/td>\n",
       "            <td>Dragon Spacecraft Qualification Unit<\/td>\n",
       "            <td>0<\/td>\n",
       "            <td>LEO<\/td>\n",
       "            <td>SpaceX<\/td>\n",
       "            <td>Success<\/td>\n",
       "            <td>Failure (parachute)<\/td>\n",
       "        <\/tr>\n",
       "        <tr>\n",
       "            <td>08-12-2010<\/td>\n",
       "            <td>15:43:00<\/td>\n",
       "            <td>F9 v1.0  B0004<\/td>\n",
       "            <td>CCAFS LC-40<\/td>\n",
       "            <td>Dragon demo flight C1, two CubeSats, barrel of Brouere cheese<\/td>\n",
       "            <td>0<\/td>\n",
       "            <td>LEO (ISS)<\/td>\n",
       "            <td>NASA (COTS) NRO<\/td>\n",
       "            <td>Success<\/td>\n",
       "            <td>Failure (parachute)<\/td>\n",
       "        <\/tr>\n",
       "        <tr>\n",
       "            <td>22-05-2012<\/td>\n",
       "            <td>07:44:00<\/td>\n",
       "            <td>F9 v1.0  B0005<\/td>\n",
       "            <td>CCAFS LC-40<\/td>\n",
       "            <td>Dragon demo flight C2<\/td>\n",
       "            <td>525<\/td>\n",
       "            <td>LEO (ISS)<\/td>\n",
       "            <td>NASA (COTS)<\/td>\n",
       "            <td>Success<\/td>\n",
       "            <td>No attempt<\/td>\n",
       "        <\/tr>\n",
       "        <tr>\n",
       "            <td>08-10-2012<\/td>\n",
       "            <td>00:35:00<\/td>\n",
       "            <td>F9 v1.0  B0006<\/td>\n",
       "            <td>CCAFS LC-40<\/td>\n",
       "            <td>SpaceX CRS-1<\/td>\n",
       "            <td>500<\/td>\n",
       "            <td>LEO (ISS)<\/td>\n",
       "            <td>NASA (CRS)<\/td>\n",
       "            <td>Success<\/td>\n",
       "            <td>No attempt<\/td>\n",
       "        <\/tr>\n",
       "        <tr>\n",
       "            <td>01-03-2013<\/td>\n",
       "            <td>15:10:00<\/td>\n",
       "            <td>F9 v1.0  B0007<\/td>\n",
       "            <td>CCAFS LC-40<\/td>\n",
       "            <td>SpaceX CRS-2<\/td>\n",
       "            <td>677<\/td>\n",
       "            <td>LEO (ISS)<\/td>\n",
       "            <td>NASA (CRS)<\/td>\n",
       "            <td>Success<\/td>\n",
       "            <td>No attempt<\/td>\n",
       "        <\/tr>\n",
       "    <\/tbody>\n",
       "<\/table>"
      ]
     },
     "metadata":{
      
     },
     "output_type":"display_data"
    }
   ],
   "metadata":{
    "datalore":{
     "node_id":"lJw5WJhudREyiyDxBQt87j",
     "type":"CODE",
     "hide_input_from_viewers":false,
     "hide_output_from_viewers":false,
     "report_properties":{
      
     }
    }
   }
  },
  {
   "cell_type":"markdown",
   "source":[
    "### Task 3\n",
    "\n",
    "\n",
    "\n",
    "\n",
    "##### Display the total payload mass carried by boosters launched by NASA (CRS)"
   ],
   "attachments":{
    
   },
   "metadata":{
    "datalore":{
     "node_id":"gHDbPfASDmvvjazM2WYsqj",
     "type":"MD",
     "hide_input_from_viewers":false,
     "hide_output_from_viewers":false,
     "report_properties":{
      
     }
    }
   }
  },
  {
   "cell_type":"code",
   "source":[
    "%%sql\n",
    "SELECT SUM(PAYLOAD_MASS__KG_) AS total_payload_mass_kg\n",
    "FROM SPACEXTBL\n",
    "WHERE CUSTOMER = 'NASA (CRS)'"
   ],
   "execution_count":20,
   "outputs":[
    {
     "name":"stdout",
     "text":[
      " * sqlite:\/\/\/my_data1.db\n",
      "Done.\n"
     ],
     "output_type":"stream"
    },
    {
     "data":{
      "text\/html":[
       "<table>\n",
       "    <thead>\n",
       "        <tr>\n",
       "            <th>total_payload_mass_kg<\/th>\n",
       "        <\/tr>\n",
       "    <\/thead>\n",
       "    <tbody>\n",
       "        <tr>\n",
       "            <td>45596<\/td>\n",
       "        <\/tr>\n",
       "    <\/tbody>\n",
       "<\/table>"
      ]
     },
     "metadata":{
      
     },
     "output_type":"display_data"
    }
   ],
   "metadata":{
    "datalore":{
     "node_id":"MsXl7cMOcfEmbiOtxnWpH2",
     "type":"CODE",
     "hide_input_from_viewers":false,
     "hide_output_from_viewers":false,
     "report_properties":{
      
     }
    }
   }
  },
  {
   "cell_type":"markdown",
   "source":[
    "### Task 4\n",
    "\n",
    "\n",
    "\n",
    "\n",
    "##### Display average payload mass carried by booster version F9 v1.1"
   ],
   "attachments":{
    
   },
   "metadata":{
    "datalore":{
     "node_id":"E7Iu633S7JTqTMsUFwKSgM",
     "type":"MD",
     "hide_input_from_viewers":false,
     "hide_output_from_viewers":false,
     "report_properties":{
      
     }
    }
   }
  },
  {
   "cell_type":"code",
   "source":[
    "%%sql\n",
    "SELECT AVG(PAYLOAD_MASS__KG_) AS average_payload_mass_kg\n",
    "FROM SPACEXTBL\n",
    "WHERE Booster_Version = 'F9 v1.1'"
   ],
   "execution_count":22,
   "outputs":[
    {
     "name":"stdout",
     "text":[
      " * sqlite:\/\/\/my_data1.db\n",
      "Done.\n"
     ],
     "output_type":"stream"
    },
    {
     "data":{
      "text\/html":[
       "<table>\n",
       "    <thead>\n",
       "        <tr>\n",
       "            <th>average_payload_mass_kg<\/th>\n",
       "        <\/tr>\n",
       "    <\/thead>\n",
       "    <tbody>\n",
       "        <tr>\n",
       "            <td>2928.4<\/td>\n",
       "        <\/tr>\n",
       "    <\/tbody>\n",
       "<\/table>"
      ]
     },
     "metadata":{
      
     },
     "output_type":"display_data"
    }
   ],
   "metadata":{
    "datalore":{
     "node_id":"7xk0pSbDEg7d2NCGuIhlML",
     "type":"CODE",
     "hide_input_from_viewers":false,
     "hide_output_from_viewers":false,
     "report_properties":{
      
     }
    }
   }
  },
  {
   "cell_type":"markdown",
   "source":[
    "### Task 5\n",
    "\n",
    "##### List the date when the first succesful landing outcome in ground pad was acheived.\n",
    "\n",
    "\n",
    "_Hint:Use min function_ "
   ],
   "attachments":{
    
   },
   "metadata":{
    "datalore":{
     "node_id":"QmbHziWHB5RohvlIGJFfKU",
     "type":"MD",
     "hide_input_from_viewers":false,
     "hide_output_from_viewers":false,
     "report_properties":{
      
     }
    }
   }
  },
  {
   "cell_type":"code",
   "source":[
    "%%sql\n",
    "SELECT MIN(DATE) AS first_successful_landing_date\n",
    "FROM SPACEXTBL\n",
    "WHERE [Landing _Outcome] = 'Success (ground pad)'"
   ],
   "execution_count":49,
   "outputs":[
    {
     "name":"stdout",
     "text":[
      " * sqlite:\/\/\/my_data1.db\n",
      "Done.\n"
     ],
     "output_type":"stream"
    },
    {
     "data":{
      "text\/html":[
       "<table>\n",
       "    <thead>\n",
       "        <tr>\n",
       "            <th>first_successful_landing_date<\/th>\n",
       "        <\/tr>\n",
       "    <\/thead>\n",
       "    <tbody>\n",
       "        <tr>\n",
       "            <td>01-05-2017<\/td>\n",
       "        <\/tr>\n",
       "    <\/tbody>\n",
       "<\/table>"
      ]
     },
     "metadata":{
      
     },
     "output_type":"display_data"
    }
   ],
   "metadata":{
    "datalore":{
     "node_id":"PKiU0kSmVIY0O88im8FSvf",
     "type":"CODE",
     "hide_input_from_viewers":false,
     "hide_output_from_viewers":false,
     "report_properties":{
      
     }
    }
   }
  },
  {
   "cell_type":"markdown",
   "source":[
    "### Task 6\n",
    "\n",
    "##### List the names of the boosters which have success in drone ship and have payload mass greater than 4000 but less than 6000"
   ],
   "attachments":{
    
   },
   "metadata":{
    "datalore":{
     "node_id":"7RUZhLDJN1y1KhiLfU0g1g",
     "type":"MD",
     "hide_input_from_viewers":false,
     "hide_output_from_viewers":false,
     "report_properties":{
      
     }
    }
   }
  },
  {
   "cell_type":"code",
   "source":[
    "%%sql\n",
    "SELECT BOOSTER_VERSION \n",
    "FROM SPACEXTBL\n",
    "WHERE [Landing _Outcome] = 'Success (drone ship)' AND (PAYLOAD_MASS__KG_ BETWEEN 4000 AND 6000)"
   ],
   "execution_count":50,
   "outputs":[
    {
     "name":"stdout",
     "text":[
      " * sqlite:\/\/\/my_data1.db\n",
      "Done.\n"
     ],
     "output_type":"stream"
    },
    {
     "data":{
      "text\/html":[
       "<table>\n",
       "    <thead>\n",
       "        <tr>\n",
       "            <th>Booster_Version<\/th>\n",
       "        <\/tr>\n",
       "    <\/thead>\n",
       "    <tbody>\n",
       "        <tr>\n",
       "            <td>F9 FT B1022<\/td>\n",
       "        <\/tr>\n",
       "        <tr>\n",
       "            <td>F9 FT B1026<\/td>\n",
       "        <\/tr>\n",
       "        <tr>\n",
       "            <td>F9 FT  B1021.2<\/td>\n",
       "        <\/tr>\n",
       "        <tr>\n",
       "            <td>F9 FT  B1031.2<\/td>\n",
       "        <\/tr>\n",
       "    <\/tbody>\n",
       "<\/table>"
      ]
     },
     "metadata":{
      
     },
     "output_type":"display_data"
    }
   ],
   "metadata":{
    "datalore":{
     "node_id":"uZBH43iRDLX4CQcgfm80B2",
     "type":"CODE",
     "hide_input_from_viewers":false,
     "hide_output_from_viewers":false,
     "report_properties":{
      
     }
    }
   }
  },
  {
   "cell_type":"markdown",
   "source":[
    "### Task 7\n",
    "\n",
    "\n",
    "\n",
    "\n",
    "##### List the total number of successful and failure mission outcomes"
   ],
   "attachments":{
    
   },
   "metadata":{
    "datalore":{
     "node_id":"dkUuFQuMrDrObSYjPd6i7k",
     "type":"MD",
     "hide_input_from_viewers":false,
     "hide_output_from_viewers":false,
     "report_properties":{
      
     }
    }
   }
  },
  {
   "cell_type":"code",
   "source":[
    "%%sql\n",
    "SELECT Mission_Outcome, COUNT (*) AS total\n",
    "FROM SPACEXTBL\n",
    "GROUP BY Mission_Outcome"
   ],
   "execution_count":51,
   "outputs":[
    {
     "name":"stdout",
     "text":[
      " * sqlite:\/\/\/my_data1.db\n",
      "Done.\n"
     ],
     "output_type":"stream"
    },
    {
     "data":{
      "text\/html":[
       "<table>\n",
       "    <thead>\n",
       "        <tr>\n",
       "            <th>Mission_Outcome<\/th>\n",
       "            <th>total<\/th>\n",
       "        <\/tr>\n",
       "    <\/thead>\n",
       "    <tbody>\n",
       "        <tr>\n",
       "            <td>Failure (in flight)<\/td>\n",
       "            <td>1<\/td>\n",
       "        <\/tr>\n",
       "        <tr>\n",
       "            <td>Success<\/td>\n",
       "            <td>98<\/td>\n",
       "        <\/tr>\n",
       "        <tr>\n",
       "            <td>Success <\/td>\n",
       "            <td>1<\/td>\n",
       "        <\/tr>\n",
       "        <tr>\n",
       "            <td>Success (payload status unclear)<\/td>\n",
       "            <td>1<\/td>\n",
       "        <\/tr>\n",
       "    <\/tbody>\n",
       "<\/table>"
      ]
     },
     "metadata":{
      
     },
     "output_type":"display_data"
    }
   ],
   "metadata":{
    "datalore":{
     "node_id":"AXUK6QPnwvjNRELdDXaIrF",
     "type":"CODE",
     "hide_input_from_viewers":false,
     "hide_output_from_viewers":false,
     "report_properties":{
      
     }
    }
   }
  },
  {
   "cell_type":"markdown",
   "source":[
    "### Task 8\n",
    "\n",
    "\n",
    "\n",
    "##### List the   names of the booster_versions which have carried the maximum payload mass. Use a subquery"
   ],
   "attachments":{
    
   },
   "metadata":{
    "datalore":{
     "node_id":"tt4rg7AZssQijkxYR2pTwI",
     "type":"MD",
     "hide_input_from_viewers":false,
     "hide_output_from_viewers":false,
     "report_properties":{
      
     }
    }
   }
  },
  {
   "cell_type":"code",
   "source":[
    "%%sql\n",
    "SELECT DISTINCT BOOSTER_VERSION\n",
    "FROM SPACEXTBL\n",
    "WHERE PAYLOAD_MASS__KG_ = (\n",
    "    SELECT MAX(PAYLOAD_MASS__KG_)\n",
    "    FROM SPACEXTBL);"
   ],
   "execution_count":53,
   "outputs":[
    {
     "name":"stdout",
     "text":[
      " * sqlite:\/\/\/my_data1.db\n",
      "Done.\n"
     ],
     "output_type":"stream"
    },
    {
     "data":{
      "text\/html":[
       "<table>\n",
       "    <thead>\n",
       "        <tr>\n",
       "            <th>Booster_Version<\/th>\n",
       "        <\/tr>\n",
       "    <\/thead>\n",
       "    <tbody>\n",
       "        <tr>\n",
       "            <td>F9 B5 B1048.4<\/td>\n",
       "        <\/tr>\n",
       "        <tr>\n",
       "            <td>F9 B5 B1049.4<\/td>\n",
       "        <\/tr>\n",
       "        <tr>\n",
       "            <td>F9 B5 B1051.3<\/td>\n",
       "        <\/tr>\n",
       "        <tr>\n",
       "            <td>F9 B5 B1056.4<\/td>\n",
       "        <\/tr>\n",
       "        <tr>\n",
       "            <td>F9 B5 B1048.5<\/td>\n",
       "        <\/tr>\n",
       "        <tr>\n",
       "            <td>F9 B5 B1051.4<\/td>\n",
       "        <\/tr>\n",
       "        <tr>\n",
       "            <td>F9 B5 B1049.5<\/td>\n",
       "        <\/tr>\n",
       "        <tr>\n",
       "            <td>F9 B5 B1060.2 <\/td>\n",
       "        <\/tr>\n",
       "        <tr>\n",
       "            <td>F9 B5 B1058.3 <\/td>\n",
       "        <\/tr>\n",
       "        <tr>\n",
       "            <td>F9 B5 B1051.6<\/td>\n",
       "        <\/tr>\n",
       "        <tr>\n",
       "            <td>F9 B5 B1060.3<\/td>\n",
       "        <\/tr>\n",
       "        <tr>\n",
       "            <td>F9 B5 B1049.7 <\/td>\n",
       "        <\/tr>\n",
       "    <\/tbody>\n",
       "<\/table>"
      ]
     },
     "metadata":{
      
     },
     "output_type":"display_data"
    }
   ],
   "metadata":{
    "datalore":{
     "node_id":"xph34T5g4SweV5wnmgO9R6",
     "type":"CODE",
     "hide_input_from_viewers":false,
     "hide_output_from_viewers":false,
     "report_properties":{
      
     }
    }
   }
  },
  {
   "cell_type":"markdown",
   "source":[
    "### Task 9\n",
    "\n",
    "\n",
    "##### List the records which will display the month names, failure landing_outcomes in drone ship ,booster versions, launch_site for the months in year 2015.\n",
    "\n",
    "**Note: SQLLite does not support monthnames. So you need to use  substr(Date, 4, 2) as month to get the months and substr(Date,7,4)='2015' for year.**"
   ],
   "attachments":{
    
   },
   "metadata":{
    "datalore":{
     "node_id":"P1Fmxya80AESBqOxKNxRia",
     "type":"MD",
     "hide_input_from_viewers":false,
     "hide_output_from_viewers":false,
     "report_properties":{
      
     }
    }
   }
  },
  {
   "cell_type":"code",
   "source":[
    "%%sql\n",
    "SELECT substr(Date,4,2) as Month, \"Landing _Outcome\", BOOSTER_VERSION, LAUNCH_SITE\n",
    "FROM SPACEXTBL\n",
    "WHERE \"Landing _Outcome\" = 'Failure (drone ship)' AND substr(Date,7,4) = '2015'"
   ],
   "execution_count":61,
   "outputs":[
    {
     "name":"stdout",
     "text":[
      " * sqlite:\/\/\/my_data1.db\n",
      "Done.\n"
     ],
     "output_type":"stream"
    },
    {
     "data":{
      "text\/html":[
       "<table>\n",
       "    <thead>\n",
       "        <tr>\n",
       "            <th>Month<\/th>\n",
       "            <th>Landing _Outcome<\/th>\n",
       "            <th>Booster_Version<\/th>\n",
       "            <th>Launch_Site<\/th>\n",
       "        <\/tr>\n",
       "    <\/thead>\n",
       "    <tbody>\n",
       "        <tr>\n",
       "            <td>01<\/td>\n",
       "            <td>Failure (drone ship)<\/td>\n",
       "            <td>F9 v1.1 B1012<\/td>\n",
       "            <td>CCAFS LC-40<\/td>\n",
       "        <\/tr>\n",
       "        <tr>\n",
       "            <td>04<\/td>\n",
       "            <td>Failure (drone ship)<\/td>\n",
       "            <td>F9 v1.1 B1015<\/td>\n",
       "            <td>CCAFS LC-40<\/td>\n",
       "        <\/tr>\n",
       "    <\/tbody>\n",
       "<\/table>"
      ]
     },
     "metadata":{
      
     },
     "output_type":"display_data"
    }
   ],
   "metadata":{
    "datalore":{
     "node_id":"zJiZig2zvHZ4ywSKGbCbLq",
     "type":"CODE",
     "hide_input_from_viewers":false,
     "hide_output_from_viewers":false,
     "report_properties":{
      
     }
    }
   }
  },
  {
   "cell_type":"markdown",
   "source":[
    "### Task 10\n",
    "\n",
    "\n",
    "\n",
    "\n",
    "##### Rank the  count of  successful landing_outcomes between the date 04-06-2010 and 20-03-2017 in descending order."
   ],
   "attachments":{
    
   },
   "metadata":{
    "datalore":{
     "node_id":"3tmb2dl12Jf60SdYLnzz1e",
     "type":"MD",
     "hide_input_from_viewers":false,
     "hide_output_from_viewers":false,
     "report_properties":{
      
     }
    }
   }
  },
  {
   "cell_type":"code",
   "source":[
    "%%sql\n",
    "SELECT \"Landing _Outcome\", COUNT(\"Landing _Outcome\") AS total, DATE\n",
    "FROM SPACEXTBL\n",
    "WHERE substr(Date,7,4) || substr(Date,4,2) || substr(Date,1,2) between '20100604'and '20170320'\n",
    "and \"Landing _Outcome\" like \"Success%\"\n",
    "GROUP BY \"Landing _Outcome\"\n",
    "ORDER BY total DESC"
   ],
   "execution_count":65,
   "outputs":[
    {
     "name":"stdout",
     "text":[
      " * sqlite:\/\/\/my_data1.db\n",
      "Done.\n"
     ],
     "output_type":"stream"
    },
    {
     "data":{
      "text\/html":[
       "<table>\n",
       "    <thead>\n",
       "        <tr>\n",
       "            <th>Landing _Outcome<\/th>\n",
       "            <th>total<\/th>\n",
       "            <th>Date<\/th>\n",
       "        <\/tr>\n",
       "    <\/thead>\n",
       "    <tbody>\n",
       "        <tr>\n",
       "            <td>Success (drone ship)<\/td>\n",
       "            <td>5<\/td>\n",
       "            <td>08-04-2016<\/td>\n",
       "        <\/tr>\n",
       "        <tr>\n",
       "            <td>Success (ground pad)<\/td>\n",
       "            <td>3<\/td>\n",
       "            <td>22-12-2015<\/td>\n",
       "        <\/tr>\n",
       "    <\/tbody>\n",
       "<\/table>"
      ]
     },
     "metadata":{
      
     },
     "output_type":"display_data"
    }
   ],
   "metadata":{
    "datalore":{
     "node_id":"r5J9lMD0dT3w6xiC77G6lt",
     "type":"CODE",
     "hide_input_from_viewers":false,
     "hide_output_from_viewers":false,
     "report_properties":{
      
     }
    }
   }
  },
  {
   "cell_type":"markdown",
   "source":[
    "### Reference Links\n",
    "\n",
    "* <a href =\"https:\/\/cf-courses-data.s3.us.cloud-object-storage.appdomain.cloud\/IBMDeveloperSkillsNetwork-DB0201EN-SkillsNetwork\/labs\/Labs_Coursera_V5\/labs\/Lab%20-%20String%20Patterns%20-%20Sorting%20-%20Grouping\/instructional-labs.md.html?origin=www.coursera.org\">Hands-on Lab : String Patterns, Sorting and Grouping<\/a>  \n",
    "\n",
    "*  <a  href=\"https:\/\/cf-courses-data.s3.us.cloud-object-storage.appdomain.cloud\/IBMDeveloperSkillsNetwork-DB0201EN-SkillsNetwork\/labs\/Labs_Coursera_V5\/labs\/Lab%20-%20Built-in%20functions%20\/Hands-on_Lab__Built-in_Functions.md.html?origin=www.coursera.org\">Hands-on Lab: Built-in functions<\/a>\n",
    "\n",
    "*  <a  href=\"https:\/\/cf-courses-data.s3.us.cloud-object-storage.appdomain.cloud\/IBMDeveloperSkillsNetwork-DB0201EN-SkillsNetwork\/labs\/Labs_Coursera_V5\/labs\/Lab%20-%20Sub-queries%20and%20Nested%20SELECTs%20\/instructional-labs.md.html?origin=www.coursera.org\">Hands-on Lab : Sub-queries and Nested SELECT Statements<\/a>\n",
    "\n",
    "*   <a href=\"https:\/\/cf-courses-data.s3.us.cloud-object-storage.appdomain.cloud\/IBMDeveloperSkillsNetwork-DB0201EN-SkillsNetwork\/labs\/Module%205\/DB0201EN-Week3-1-3-SQLmagic.ipynb\">Hands-on Tutorial: Accessing Databases with SQL magic<\/a>\n",
    "\n",
    "*  <a href= \"https:\/\/cf-courses-data.s3.us.cloud-object-storage.appdomain.cloud\/IBMDeveloperSkillsNetwork-DB0201EN-SkillsNetwork\/labs\/Module%205\/DB0201EN-Week3-1-4-Analyzing.ipynb\">Hands-on Lab: Analyzing a real World Data Set<\/a>\n",
    "\n"
   ],
   "attachments":{
    
   },
   "metadata":{
    "datalore":{
     "node_id":"ek4eLVeiRcFXJALJl9xirw",
     "type":"MD",
     "hide_input_from_viewers":false,
     "hide_output_from_viewers":false,
     "report_properties":{
      
     }
    }
   }
  },
  {
   "cell_type":"markdown",
   "source":[
    "## Author(s)\n",
    "\n",
    "<h4> Lakshmi Holla <\/h4>"
   ],
   "attachments":{
    
   },
   "metadata":{
    "datalore":{
     "node_id":"YUclM7GI401RPQZSaOxxbQ",
     "type":"MD",
     "hide_input_from_viewers":false,
     "hide_output_from_viewers":false,
     "report_properties":{
      
     }
    }
   }
  },
  {
   "cell_type":"markdown",
   "source":[
    "## Other Contributors\n",
    "\n",
    "<h4> Rav Ahuja <\/h4>"
   ],
   "attachments":{
    
   },
   "metadata":{
    "datalore":{
     "node_id":"xu2GUls8zaS5CSkUQvso0W",
     "type":"MD",
     "hide_input_from_viewers":false,
     "hide_output_from_viewers":false,
     "report_properties":{
      
     }
    }
   }
  },
  {
   "cell_type":"markdown",
   "source":[
    "## Change log\n",
    "| Date | Version | Changed by | Change Description |\n",
    "|------|--------|--------|---------|\n",
    "| 2021-07-09 | 0.2 |Lakshmi Holla | Changes made in magic sql|\n",
    "| 2021-05-20 | 0.1 |Lakshmi Holla | Created Initial Version |"
   ],
   "attachments":{
    
   },
   "metadata":{
    "datalore":{
     "node_id":"TQbCLhSwcZjmsbiEujAR4x",
     "type":"MD",
     "hide_input_from_viewers":false,
     "hide_output_from_viewers":false,
     "report_properties":{
      
     }
    }
   }
  },
  {
   "cell_type":"markdown",
   "source":[
    "## <h3 align=\"center\"> © IBM Corporation 2021. All rights reserved. <h3\/>"
   ],
   "attachments":{
    
   },
   "metadata":{
    "datalore":{
     "node_id":"zWZg9oYebxYQZoUWeD9Jii",
     "type":"MD",
     "hide_input_from_viewers":false,
     "hide_output_from_viewers":false,
     "report_properties":{
      
     }
    }
   }
  }
 ],
 "metadata":{
  "kernelspec":{
   "display_name":"Python",
   "language":"python",
   "name":"python"
  },
  "datalore":{
   "version":1,
   "computation_mode":"JUPYTER",
   "package_manager":"pip",
   "base_environment":"default",
   "packages":[
    
   ]
  }
 },
 "nbformat":4,
 "nbformat_minor":4
}